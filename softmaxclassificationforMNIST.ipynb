{
 "cells": [
  {
   "cell_type": "code",
   "execution_count": 40,
   "metadata": {
    "collapsed": false,
    "scrolled": true
   },
   "outputs": [
    {
     "name": "stdout",
     "output_type": "stream",
     "text": [
      "Extracting ./MNIST_DATA/train-images-idx3-ubyte.gz\n",
      "Extracting ./MNIST_DATA/train-labels-idx1-ubyte.gz\n",
      "Extracting ./MNIST_DATA/t10k-images-idx3-ubyte.gz\n",
      "Extracting ./MNIST_DATA/t10k-labels-idx1-ubyte.gz\n"
     ]
    }
   ],
   "source": [
    "import tensorflow as tf\n",
    "import input_data\n",
    "\n",
    "learning_rate = 0.01\n",
    "training_epochs = 25\n",
    "batch_size = 100\n",
    "display_step = 1\n",
    "\n",
    "mnist = input_data.read_data_sets(\"./MNIST_DATA\", one_hot=True)"
   ]
  },
  {
   "cell_type": "code",
   "execution_count": 41,
   "metadata": {
    "collapsed": false
   },
   "outputs": [
    {
     "name": "stdout",
     "output_type": "stream",
     "text": [
      "Epoch: 0001 cost= 0.358261517\n",
      "Epoch: 0002 cost= 0.281931180\n",
      "Epoch: 0003 cost= 0.271845694\n",
      "Epoch: 0004 cost= 0.265042298\n",
      "Epoch: 0005 cost= 0.261528213\n",
      "Epoch: 0006 cost= 0.260637467\n",
      "Epoch: 0007 cost= 0.259087178\n",
      "Epoch: 0008 cost= 0.255747356\n",
      "Epoch: 0009 cost= 0.256775191\n",
      "Epoch: 0010 cost= 0.254862096\n",
      "Epoch: 0011 cost= 0.253365451\n",
      "Epoch: 0012 cost= 0.250304825\n",
      "Epoch: 0013 cost= 0.250392489\n",
      "Epoch: 0014 cost= 0.248266828\n",
      "Epoch: 0015 cost= 0.252892739\n",
      "Epoch: 0016 cost= 0.245914599\n",
      "Epoch: 0017 cost= 0.246812203\n",
      "Epoch: 0018 cost= 0.248447235\n",
      "Epoch: 0019 cost= 0.245472498\n",
      "Epoch: 0020 cost= 0.243310648\n",
      "Epoch: 0021 cost= 0.244416240\n",
      "Epoch: 0022 cost= 0.244889498\n",
      "Epoch: 0023 cost= 0.242864834\n",
      "Epoch: 0024 cost= 0.242400869\n",
      "Epoch: 0025 cost= 0.244274715\n",
      "Optimization Finished!\n",
      "('Accuracy:', 0.91829997)\n"
     ]
    }
   ],
   "source": [
    "# tensorflow graph input\n",
    "X = tf.placeholder('float', [None, 784]) # mnist data image of shape 28 * 28 = 784\n",
    "Y = tf.placeholder('float', [None, 10]) # 0-9 digits recognition = > 10 classes\n",
    "\n",
    "# set model weights\n",
    "W = tf.Variable(tf.zeros([784, 10]))\n",
    "b = tf.Variable(tf.zeros([10]))\n",
    "\n",
    "# Our hypothesis\n",
    "activation = tf.add(tf.matmul(X, W),b)  # Softmax\n",
    "\n",
    "# Cost function: cross entropy\n",
    "cost = tf.reduce_mean(tf.nn.softmax_cross_entropy_with_logits(activation, Y))\n",
    "optimizer = tf.train.AdamOptimizer(learning_rate=learning_rate).minimize(cost)  # Gradient Descen\n",
    "\n",
    "# Before starting, initialize the variables. We will `run` this first.\n",
    "init = tf.initialize_all_variables()\n",
    "\n",
    "# Launch the graph,\n",
    "with tf.Session() as sess:\n",
    "    sess.run(init)\n",
    "\n",
    "    # Training cycle\n",
    "    for epoch in range(training_epochs):\n",
    "        avg_cost = 0.\n",
    "        total_batch = int(mnist.train.num_examples/batch_size)\n",
    "\n",
    "        # Fit the line.\n",
    "        for step in xrange(total_batch):\n",
    "            batch_xs, batch_ys = mnist.train.next_batch(batch_size)\n",
    "\n",
    "            # Fit training using batch data\n",
    "\n",
    "            sess.run(optimizer, feed_dict={X: batch_xs, Y: batch_ys})\n",
    "\n",
    "            # Compute average loss\n",
    "            avg_cost += sess.run(cost, feed_dict={X: batch_xs, Y: batch_ys})/total_batch\n",
    "        # Display logs per epoch step\n",
    "        if epoch % display_step == 0:\n",
    "            print \"Epoch:\", '%04d' %(epoch+1), \"cost=\", \"{:.9f}\".format(avg_cost)\n",
    "\n",
    "    print \"Optimization Finished!\"\n",
    "\n",
    "    # Test model\n",
    "    correct_prediction = tf.equal(tf.argmax(activation, 1), tf.argmax(Y, 1))\n",
    "    # Calculate accuracy\n",
    "    accuracy = tf.reduce_mean(tf.cast(correct_prediction, \"float\"))\n",
    "    print (\"Accuracy:\", accuracy.eval({X: mnist.test.images, Y: mnist.test.labels}))"
   ]
  }
 ],
 "metadata": {
  "kernelspec": {
   "display_name": "Python 2",
   "language": "python",
   "name": "python2"
  },
  "language_info": {
   "codemirror_mode": {
    "name": "ipython",
    "version": 2
   },
   "file_extension": ".py",
   "mimetype": "text/x-python",
   "name": "python",
   "nbconvert_exporter": "python",
   "pygments_lexer": "ipython2",
   "version": "2.7.6"
  }
 },
 "nbformat": 4,
 "nbformat_minor": 0
}
